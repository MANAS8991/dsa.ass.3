{
 "cells": [
  {
   "cell_type": "markdown",
   "id": "0ad37c51",
   "metadata": {},
   "source": [
    "# Question 1\n",
    "# Given an integer array nums of length n and an integer target, find three integers in nums such that the sum is closest to the target.\n",
    "# Return the sum of the three integers.\n",
    "\n",
    "# You may assume that each input would have exactly one solution.\n",
    "\n",
    "# Example 1:\n",
    "# Input: nums = [-1,2,1,-4], target = 1\n",
    "# Output: 2\n",
    "\n",
    "# Explanation: The sum that is closest to the target is 2. (-1 + 2 + 1 = 2)."
   ]
  },
  {
   "cell_type": "code",
   "execution_count": 1,
   "id": "719e3e07",
   "metadata": {},
   "outputs": [
    {
     "name": "stdout",
     "output_type": "stream",
     "text": [
      "Closest Sum: 2\n"
     ]
    }
   ],
   "source": [
    "def threeSumClosest(nums, target):\n",
    "    nums.sort()  # Sort the array in ascending order\n",
    "    n = len(nums)\n",
    "    closest_sum = float('inf')  # Initialize closest sum to a large value\n",
    "\n",
    "    for i in range(n - 2):\n",
    "        left = i + 1\n",
    "        right = n - 1\n",
    "\n",
    "        while left < right:\n",
    "            cur_sum = nums[i] + nums[left] + nums[right]\n",
    "\n",
    "            if abs(cur_sum - target) < abs(closest_sum - target):\n",
    "                closest_sum = cur_sum\n",
    "\n",
    "            if cur_sum > target:\n",
    "                right -= 1\n",
    "            elif cur_sum < target:\n",
    "                left += 1\n",
    "            else:\n",
    "                return target  # Found an exact match, return target\n",
    "\n",
    "    return closest_sum\n",
    "\n",
    "# Test the function\n",
    "nums = [-1, 2, 1, -4]\n",
    "target = 1\n",
    "result = threeSumClosest(nums, target)\n",
    "print(\"Closest Sum:\", result)\n"
   ]
  },
  {
   "cell_type": "markdown",
   "id": "af7238b9",
   "metadata": {},
   "source": [
    "# Question 2\n",
    "# Given an array nums of n integers, return an array of all the unique quadruplets\n",
    "# [nums[a], nums[b], nums[c], nums[d]] such that:\n",
    "#           ● 0 <= a, b, c, d < n\n",
    "#           ● a, b, c, and d are distinct.\n",
    "#           ● nums[a] + nums[b] + nums[c] + nums[d] == target\n",
    "\n",
    "# You may return the answer in any order.\n",
    "\n",
    "# Example 1:\n",
    "# Input: nums = [1,0,-1,0,-2,2], target = 0\n",
    "#Output: [[-2,-1,1,2],[-2,0,0,2],[-1,0,0,1]]"
   ]
  },
  {
   "cell_type": "code",
   "execution_count": 2,
   "id": "19a0ca18",
   "metadata": {},
   "outputs": [
    {
     "name": "stdout",
     "output_type": "stream",
     "text": [
      "Quadruplets: [[-2, -1, 1, 2], [-2, 0, 0, 2], [-1, 0, 0, 1]]\n"
     ]
    }
   ],
   "source": [
    "def fourSum(nums, target):\n",
    "    nums.sort()  # Sort the array in ascending order\n",
    "    n = len(nums)\n",
    "    result = []\n",
    "\n",
    "    for a in range(n - 3):\n",
    "        if a > 0 and nums[a] == nums[a - 1]:\n",
    "            continue  # Skip duplicates of the first element\n",
    "\n",
    "        for b in range(a + 1, n - 2):\n",
    "            if b > a + 1 and nums[b] == nums[b - 1]:\n",
    "                continue  # Skip duplicates of the second element\n",
    "\n",
    "            left = b + 1\n",
    "            right = n - 1\n",
    "\n",
    "            while left < right:\n",
    "                cur_sum = nums[a] + nums[b] + nums[left] + nums[right]\n",
    "\n",
    "                if cur_sum == target:\n",
    "                    result.append([nums[a], nums[b], nums[left], nums[right]])\n",
    "                    left += 1\n",
    "                    right -= 1\n",
    "\n",
    "                    while left < right and nums[left] == nums[left - 1]:\n",
    "                        left += 1  # Skip duplicates of the third element\n",
    "                    while left < right and nums[right] == nums[right + 1]:\n",
    "                        right -= 1  # Skip duplicates of the fourth element\n",
    "                elif cur_sum < target:\n",
    "                    left += 1\n",
    "                else:\n",
    "                    right -= 1\n",
    "\n",
    "    return result\n",
    "\n",
    "# Test the function\n",
    "nums = [1, 0, -1, 0, -2, 2]\n",
    "target = 0\n",
    "result = fourSum(nums, target)\n",
    "print(\"Quadruplets:\", result)\n"
   ]
  },
  {
   "cell_type": "markdown",
   "id": "e6418843",
   "metadata": {},
   "source": [
    "# **Question 3**\n",
    "# A permutation of an array of integers is an arrangement of its members into a sequence or linear order.\n",
    "\n",
    "# For example, for arr = [1,2,3], the following are all the permutations of arr:\n",
    "# [1,2,3], [1,3,2], [2, 1, 3], [2, 3, 1], [3,1,2], [3,2,1].\n",
    "\n",
    "# The next permutation of an array of integers is the next lexicographically greater\n",
    "# permutation of its integer. More formally, if all the permutations of the array are\n",
    "# sorted in one container according to their lexicographical order, then the next\n",
    "# permutation of that array is the permutation that follows it in the sorted container.\n",
    "\n",
    "# If such an arrangement is not possible, the array must be rearranged as the lowest possible order (i.e., sorted in ascending order).\n",
    "\n",
    "# ● For example, the next permutation of arr = [1,2,3] is [1,3,2].\n",
    "# ● Similarly, the next permutation of arr = [2,3,1] is [3,1,2].\n",
    "# ● While the next permutation of arr = [3,2,1] is [1,2,3] because [3,2,1] does not have a lexicographical larger rearrangement.\n",
    "\n",
    "# Given an array of integers nums, find the next permutation of nums.\n",
    "# The replacement must be in place and use only constant extra memory.\n",
    "\n",
    "# **Example 1:**\n",
    "# Input: nums = [1,2,3]\n",
    "# Output: [1,3,2]"
   ]
  },
  {
   "cell_type": "code",
   "execution_count": 3,
   "id": "860ecfb8",
   "metadata": {},
   "outputs": [
    {
     "name": "stdout",
     "output_type": "stream",
     "text": [
      "Next Permutation: [1, 3, 2]\n"
     ]
    }
   ],
   "source": [
    "def nextPermutation(nums):\n",
    "    n = len(nums)\n",
    "    i = n - 1\n",
    "    \n",
    "    # Find the first pair of adjacent elements such that nums[i] > nums[i-1]\n",
    "    while i > 0 and nums[i] <= nums[i-1]:\n",
    "        i -= 1\n",
    "    \n",
    "    if i == 0:\n",
    "        # The given permutation is the last possible permutation\n",
    "        # Reverse the entire array to get the lowest possible order\n",
    "        nums.reverse()\n",
    "    else:\n",
    "        j = n - 1\n",
    "        # Find the smallest element in the subarray nums[i:] that is greater than nums[i-1]\n",
    "        while nums[j] <= nums[i-1]:\n",
    "            j -= 1\n",
    "        # Swap nums[j] with nums[i-1]\n",
    "        nums[i-1], nums[j] = nums[j], nums[i-1]\n",
    "        # Reverse the subarray nums[i:] to get the smallest lexicographically larger permutation\n",
    "        nums[i:] = nums[i:][::-1]\n",
    "\n",
    "    return nums\n",
    "\n",
    "# Test the function\n",
    "nums = [1, 2, 3]\n",
    "result = nextPermutation(nums)\n",
    "print(\"Next Permutation:\", result)\n"
   ]
  },
  {
   "cell_type": "markdown",
   "id": "59755a82",
   "metadata": {},
   "source": [
    "# Question 4\n",
    "# Given a sorted array of distinct integers and a target value, return the index if the target is found. If not, return the index where it would be if it were inserted in order.\n",
    "\n",
    "# You must write an algorithm with O(log n) runtime complexity.\n",
    "\n",
    "# Example 1:\n",
    "# Input: nums = [1,3,5,6], target = 5\n",
    "# Output: 2"
   ]
  },
  {
   "cell_type": "code",
   "execution_count": 4,
   "id": "4ed520a6",
   "metadata": {},
   "outputs": [
    {
     "name": "stdout",
     "output_type": "stream",
     "text": [
      "Index: 2\n"
     ]
    }
   ],
   "source": [
    "def searchInsert(nums, target):\n",
    "    low = 0\n",
    "    high = len(nums) - 1\n",
    "    \n",
    "    while low <= high:\n",
    "        mid = (low + high) // 2\n",
    "        if nums[mid] == target:\n",
    "            return mid\n",
    "        elif nums[mid] < target:\n",
    "            low = mid + 1\n",
    "        else:\n",
    "            high = mid - 1\n",
    "    \n",
    "    # If the target is not found, return the index where it would be inserted\n",
    "    return low\n",
    "\n",
    "# Test the function\n",
    "nums = [1, 3, 5, 6]\n",
    "target = 5\n",
    "index = searchInsert(nums, target)\n",
    "print(\"Index:\", index)\n"
   ]
  },
  {
   "cell_type": "markdown",
   "id": "36742b80",
   "metadata": {},
   "source": [
    "#  **Question 5**\n",
    "# You are given a large integer represented as an integer array digits, where each digits[i] is the ith digit of the integer. The digits are ordered from most significant to least significant in left-to-right order. The large integer does not contain any leading 0's.\n",
    "\n",
    "# Increment the large integer by one and return the resulting array of digits.\n",
    "\n",
    "# **Example 1:**\n",
    "# Input: digits = [1,2,3]\n",
    "# Output: [1,2,4]\n",
    "\n",
    "# **Explanation:** The array represents the integer 123.\n",
    "# Incrementing by one gives 123 + 1 = 124.\n",
    "# Thus, the result should be [1,2,4]."
   ]
  },
  {
   "cell_type": "code",
   "execution_count": 5,
   "id": "0fda6236",
   "metadata": {},
   "outputs": [
    {
     "name": "stdout",
     "output_type": "stream",
     "text": [
      "Result: [1, 2, 4]\n"
     ]
    }
   ],
   "source": [
    "def plusOne(digits):\n",
    "    n = len(digits)\n",
    "    for i in range(n - 1, -1, -1):\n",
    "        if digits[i] < 9:\n",
    "            digits[i] += 1\n",
    "            return digits\n",
    "        digits[i] = 0\n",
    "    \n",
    "    # If all digits are 9, we need to add an additional digit\n",
    "    return [1] + digits\n",
    "\n",
    "# Test the function\n",
    "digits = [1, 2, 3]\n",
    "result = plusOne(digits)\n",
    "print(\"Result:\", result)\n"
   ]
  },
  {
   "cell_type": "markdown",
   "id": "7a23f238",
   "metadata": {},
   "source": [
    "# Question 6\n",
    "# Given a non-empty array of integers nums, every element appears twice except for one. Find that single one.\n",
    "\n",
    "# You must implement a solution with a linear runtime complexity and use only constant extra space.\n",
    "\n",
    "# Example 1:\n",
    "# Input: nums = [2,2,1]\n",
    "# Output: 1"
   ]
  },
  {
   "cell_type": "code",
   "execution_count": 6,
   "id": "ed91686f",
   "metadata": {},
   "outputs": [
    {
     "name": "stdout",
     "output_type": "stream",
     "text": [
      "Result: 1\n"
     ]
    }
   ],
   "source": [
    "def singleNumber(nums):\n",
    "    result = 0\n",
    "    for num in nums:\n",
    "        result ^= num\n",
    "    return result\n",
    "\n",
    "# Test the function\n",
    "nums = [2, 2, 1]\n",
    "result = singleNumber(nums)\n",
    "print(\"Result:\", result)\n"
   ]
  },
  {
   "cell_type": "markdown",
   "id": "da0a0ebc",
   "metadata": {},
   "source": [
    "# Question 7\n",
    "# You are given an inclusive range [lower, upper] and a sorted unique integer array nums, where all elements are within the inclusive range.\n",
    "\n",
    "# A number x is considered missing if x is in the range [lower, upper] and x is not in nums.\n",
    "\n",
    "# Return the shortest sorted list of ranges that exactly covers all the missing numbers. That is, no element of nums is included in any of the ranges, and each missing number is covered by one of the ranges.\n",
    "\n",
    "# Example 1:\n",
    "# Input: nums = [0,1,3,50,75], lower = 0, upper = 99\n",
    "# Output: [[2,2],[4,49],[51,74],[76,99]]\n",
    "\n",
    "# Explanation: The ranges are:\n",
    "# [2,2]\n",
    "# [4,49]\n",
    "# [51,74]\n",
    "# [76,99]"
   ]
  },
  {
   "cell_type": "code",
   "execution_count": 7,
   "id": "6a20a81f",
   "metadata": {},
   "outputs": [
    {
     "name": "stdout",
     "output_type": "stream",
     "text": [
      "Result: ['2', '4->49', '51->74', '76->99']\n"
     ]
    }
   ],
   "source": [
    "def findMissingRanges(nums, lower, upper):\n",
    "    missing_ranges = []\n",
    "    prev = lower - 1\n",
    "\n",
    "    for i in range(len(nums) + 1):\n",
    "        curr = nums[i] if i < len(nums) else upper + 1\n",
    "\n",
    "        if curr - prev >= 2:\n",
    "            missing_ranges.append(formatRange(prev + 1, curr - 1))\n",
    "\n",
    "        prev = curr\n",
    "\n",
    "    return missing_ranges\n",
    "\n",
    "def formatRange(lower, upper):\n",
    "    if lower == upper:\n",
    "        return str(lower)\n",
    "    else:\n",
    "        return str(lower) + \"->\" + str(upper)\n",
    "\n",
    "# Test the function\n",
    "nums = [0, 1, 3, 50, 75]\n",
    "lower = 0\n",
    "upper = 99\n",
    "result = findMissingRanges(nums, lower, upper)\n",
    "print(\"Result:\", result)\n"
   ]
  },
  {
   "cell_type": "markdown",
   "id": "7ed1a290",
   "metadata": {},
   "source": [
    "# Question 8\n",
    "# Given an array of meeting time intervals where intervals[i] = [starti, endi], determine if a person could attend all meetings.\n",
    "\n",
    "# Example 1:\n",
    "# Input: intervals = [[0,30],[5,10],[15,20]]\n",
    "# Output: false"
   ]
  },
  {
   "cell_type": "code",
   "execution_count": 8,
   "id": "456b4d68",
   "metadata": {},
   "outputs": [
    {
     "name": "stdout",
     "output_type": "stream",
     "text": [
      "Result: False\n"
     ]
    }
   ],
   "source": [
    "def canAttendMeetings(intervals):\n",
    "    # Sort the intervals based on the start time\n",
    "    intervals.sort(key=lambda x: x[0])\n",
    "\n",
    "    # Check for overlapping intervals\n",
    "    for i in range(1, len(intervals)):\n",
    "        if intervals[i][0] < intervals[i-1][1]:\n",
    "            return False\n",
    "\n",
    "    return True\n",
    "\n",
    "# Test the function\n",
    "intervals = [[0, 30], [5, 10], [15, 20]]\n",
    "result = canAttendMeetings(intervals)\n",
    "print(\"Result:\", result)\n"
   ]
  },
  {
   "cell_type": "code",
   "execution_count": null,
   "id": "a8af5cfb",
   "metadata": {},
   "outputs": [],
   "source": []
  }
 ],
 "metadata": {
  "kernelspec": {
   "display_name": "Python 3 (ipykernel)",
   "language": "python",
   "name": "python3"
  },
  "language_info": {
   "codemirror_mode": {
    "name": "ipython",
    "version": 3
   },
   "file_extension": ".py",
   "mimetype": "text/x-python",
   "name": "python",
   "nbconvert_exporter": "python",
   "pygments_lexer": "ipython3",
   "version": "3.9.12"
  }
 },
 "nbformat": 4,
 "nbformat_minor": 5
}
